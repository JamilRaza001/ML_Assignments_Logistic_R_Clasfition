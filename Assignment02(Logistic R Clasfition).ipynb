{
 "cells": [
  {
   "cell_type": "code",
   "execution_count": null,
   "id": "2a31a233-7310-42b5-bd9b-799bdfd4c922",
   "metadata": {},
   "outputs": [],
   "source": [
    "import pandas as pd"
   ]
  },
  {
   "cell_type": "code",
   "execution_count": null,
   "id": "10c45801-66ef-476d-abd2-42380555cdc8",
   "metadata": {},
   "outputs": [
    {
     "ename": "",
     "evalue": "",
     "output_type": "error",
     "traceback": [
      "\u001b[1;31mRunning cells with 'Python 3.13.1' requires the ipykernel package.\n",
      "\u001b[1;31mRun the following command to install 'ipykernel' into the Python environment. \n",
      "\u001b[1;31mCommand: 'c:/Python313/python.exe -m pip install ipykernel -U --user --force-reinstall'"
     ]
    }
   ],
   "source": [
    "data = pd.read_csv(\"Breast_Cancer.csv\")"
   ]
  },
  {
   "cell_type": "code",
   "execution_count": 3,
   "id": "f8667adf-c83f-441d-b979-1e7ff9dc875e",
   "metadata": {},
   "outputs": [
    {
     "data": {
      "text/html": [
       "<div>\n",
       "<style scoped>\n",
       "    .dataframe tbody tr th:only-of-type {\n",
       "        vertical-align: middle;\n",
       "    }\n",
       "\n",
       "    .dataframe tbody tr th {\n",
       "        vertical-align: top;\n",
       "    }\n",
       "\n",
       "    .dataframe thead th {\n",
       "        text-align: right;\n",
       "    }\n",
       "</style>\n",
       "<table border=\"1\" class=\"dataframe\">\n",
       "  <thead>\n",
       "    <tr style=\"text-align: right;\">\n",
       "      <th></th>\n",
       "      <th>Age</th>\n",
       "      <th>Race</th>\n",
       "      <th>Marital Status</th>\n",
       "      <th>T Stage</th>\n",
       "      <th>N Stage</th>\n",
       "      <th>6th Stage</th>\n",
       "      <th>differentiate</th>\n",
       "      <th>Grade</th>\n",
       "      <th>A Stage</th>\n",
       "      <th>Tumor Size</th>\n",
       "      <th>Estrogen Status</th>\n",
       "      <th>Progesterone Status</th>\n",
       "      <th>Regional Node Examined</th>\n",
       "      <th>Reginol Node Positive</th>\n",
       "      <th>Survival Months</th>\n",
       "      <th>Status</th>\n",
       "    </tr>\n",
       "  </thead>\n",
       "  <tbody>\n",
       "    <tr>\n",
       "      <th>0</th>\n",
       "      <td>68</td>\n",
       "      <td>White</td>\n",
       "      <td>Married</td>\n",
       "      <td>T1</td>\n",
       "      <td>N1</td>\n",
       "      <td>IIA</td>\n",
       "      <td>Poorly differentiated</td>\n",
       "      <td>3</td>\n",
       "      <td>Regional</td>\n",
       "      <td>4</td>\n",
       "      <td>Positive</td>\n",
       "      <td>Positive</td>\n",
       "      <td>24</td>\n",
       "      <td>1</td>\n",
       "      <td>60</td>\n",
       "      <td>Alive</td>\n",
       "    </tr>\n",
       "    <tr>\n",
       "      <th>1</th>\n",
       "      <td>50</td>\n",
       "      <td>White</td>\n",
       "      <td>Married</td>\n",
       "      <td>T2</td>\n",
       "      <td>N2</td>\n",
       "      <td>IIIA</td>\n",
       "      <td>Moderately differentiated</td>\n",
       "      <td>2</td>\n",
       "      <td>Regional</td>\n",
       "      <td>35</td>\n",
       "      <td>Positive</td>\n",
       "      <td>Positive</td>\n",
       "      <td>14</td>\n",
       "      <td>5</td>\n",
       "      <td>62</td>\n",
       "      <td>Alive</td>\n",
       "    </tr>\n",
       "    <tr>\n",
       "      <th>2</th>\n",
       "      <td>58</td>\n",
       "      <td>White</td>\n",
       "      <td>Divorced</td>\n",
       "      <td>T3</td>\n",
       "      <td>N3</td>\n",
       "      <td>IIIC</td>\n",
       "      <td>Moderately differentiated</td>\n",
       "      <td>2</td>\n",
       "      <td>Regional</td>\n",
       "      <td>63</td>\n",
       "      <td>Positive</td>\n",
       "      <td>Positive</td>\n",
       "      <td>14</td>\n",
       "      <td>7</td>\n",
       "      <td>75</td>\n",
       "      <td>Alive</td>\n",
       "    </tr>\n",
       "    <tr>\n",
       "      <th>3</th>\n",
       "      <td>58</td>\n",
       "      <td>White</td>\n",
       "      <td>Married</td>\n",
       "      <td>T1</td>\n",
       "      <td>N1</td>\n",
       "      <td>IIA</td>\n",
       "      <td>Poorly differentiated</td>\n",
       "      <td>3</td>\n",
       "      <td>Regional</td>\n",
       "      <td>18</td>\n",
       "      <td>Positive</td>\n",
       "      <td>Positive</td>\n",
       "      <td>2</td>\n",
       "      <td>1</td>\n",
       "      <td>84</td>\n",
       "      <td>Alive</td>\n",
       "    </tr>\n",
       "    <tr>\n",
       "      <th>4</th>\n",
       "      <td>47</td>\n",
       "      <td>White</td>\n",
       "      <td>Married</td>\n",
       "      <td>T2</td>\n",
       "      <td>N1</td>\n",
       "      <td>IIB</td>\n",
       "      <td>Poorly differentiated</td>\n",
       "      <td>3</td>\n",
       "      <td>Regional</td>\n",
       "      <td>41</td>\n",
       "      <td>Positive</td>\n",
       "      <td>Positive</td>\n",
       "      <td>3</td>\n",
       "      <td>1</td>\n",
       "      <td>50</td>\n",
       "      <td>Alive</td>\n",
       "    </tr>\n",
       "  </tbody>\n",
       "</table>\n",
       "</div>"
      ],
      "text/plain": [
       "   Age   Race Marital Status T Stage  N Stage 6th Stage  \\\n",
       "0   68  White        Married       T1      N1       IIA   \n",
       "1   50  White        Married       T2      N2      IIIA   \n",
       "2   58  White       Divorced       T3      N3      IIIC   \n",
       "3   58  White        Married       T1      N1       IIA   \n",
       "4   47  White        Married       T2      N1       IIB   \n",
       "\n",
       "               differentiate Grade   A Stage  Tumor Size Estrogen Status  \\\n",
       "0      Poorly differentiated     3  Regional           4        Positive   \n",
       "1  Moderately differentiated     2  Regional          35        Positive   \n",
       "2  Moderately differentiated     2  Regional          63        Positive   \n",
       "3      Poorly differentiated     3  Regional          18        Positive   \n",
       "4      Poorly differentiated     3  Regional          41        Positive   \n",
       "\n",
       "  Progesterone Status  Regional Node Examined  Reginol Node Positive  \\\n",
       "0            Positive                      24                      1   \n",
       "1            Positive                      14                      5   \n",
       "2            Positive                      14                      7   \n",
       "3            Positive                       2                      1   \n",
       "4            Positive                       3                      1   \n",
       "\n",
       "   Survival Months Status  \n",
       "0               60  Alive  \n",
       "1               62  Alive  \n",
       "2               75  Alive  \n",
       "3               84  Alive  \n",
       "4               50  Alive  "
      ]
     },
     "execution_count": 3,
     "metadata": {},
     "output_type": "execute_result"
    }
   ],
   "source": [
    "data.head()"
   ]
  },
  {
   "cell_type": "code",
   "execution_count": 4,
   "id": "f5f61020-7d9a-4493-b1a3-0539a4be1b79",
   "metadata": {},
   "outputs": [
    {
     "name": "stdout",
     "output_type": "stream",
     "text": [
      "<class 'pandas.core.frame.DataFrame'>\n",
      "RangeIndex: 4024 entries, 0 to 4023\n",
      "Data columns (total 16 columns):\n",
      " #   Column                  Non-Null Count  Dtype \n",
      "---  ------                  --------------  ----- \n",
      " 0   Age                     4024 non-null   int64 \n",
      " 1   Race                    4024 non-null   object\n",
      " 2   Marital Status          4024 non-null   object\n",
      " 3   T Stage                 4024 non-null   object\n",
      " 4   N Stage                 4024 non-null   object\n",
      " 5   6th Stage               4024 non-null   object\n",
      " 6   differentiate           4024 non-null   object\n",
      " 7   Grade                   4024 non-null   object\n",
      " 8   A Stage                 4024 non-null   object\n",
      " 9   Tumor Size              4024 non-null   int64 \n",
      " 10  Estrogen Status         4024 non-null   object\n",
      " 11  Progesterone Status     4024 non-null   object\n",
      " 12  Regional Node Examined  4024 non-null   int64 \n",
      " 13  Reginol Node Positive   4024 non-null   int64 \n",
      " 14  Survival Months         4024 non-null   int64 \n",
      " 15  Status                  4024 non-null   object\n",
      "dtypes: int64(5), object(11)\n",
      "memory usage: 503.1+ KB\n"
     ]
    }
   ],
   "source": [
    "data.info()"
   ]
  },
  {
   "cell_type": "code",
   "execution_count": 5,
   "id": "b9158d05-7b06-4ce2-96c3-1fed9faf48b3",
   "metadata": {},
   "outputs": [
    {
     "data": {
      "text/plain": [
       "0       False\n",
       "1       False\n",
       "2       False\n",
       "3       False\n",
       "4       False\n",
       "        ...  \n",
       "4019    False\n",
       "4020    False\n",
       "4021    False\n",
       "4022    False\n",
       "4023    False\n",
       "Length: 4024, dtype: bool"
      ]
     },
     "execution_count": 5,
     "metadata": {},
     "output_type": "execute_result"
    }
   ],
   "source": [
    "data.duplicated()"
   ]
  },
  {
   "cell_type": "code",
   "execution_count": 6,
   "id": "2997c4f0-380e-4659-b2c4-20dcf0077b57",
   "metadata": {},
   "outputs": [
    {
     "data": {
      "text/plain": [
       "Age                       0\n",
       "Race                      0\n",
       "Marital Status            0\n",
       "T Stage                   0\n",
       "N Stage                   0\n",
       "6th Stage                 0\n",
       "differentiate             0\n",
       "Grade                     0\n",
       "A Stage                   0\n",
       "Tumor Size                0\n",
       "Estrogen Status           0\n",
       "Progesterone Status       0\n",
       "Regional Node Examined    0\n",
       "Reginol Node Positive     0\n",
       "Survival Months           0\n",
       "Status                    0\n",
       "dtype: int64"
      ]
     },
     "execution_count": 6,
     "metadata": {},
     "output_type": "execute_result"
    }
   ],
   "source": [
    "data.isna().sum()"
   ]
  },
  {
   "cell_type": "code",
   "execution_count": 7,
   "id": "8f92be78-96be-4c66-a4f9-d03827b42b06",
   "metadata": {},
   "outputs": [],
   "source": [
    "data.drop_duplicates(inplace=True)"
   ]
  },
  {
   "cell_type": "code",
   "execution_count": 8,
   "id": "c4f643e5-a677-4648-b06b-01fa8524dbc5",
   "metadata": {},
   "outputs": [
    {
     "data": {
      "text/plain": [
       "Index(['Age', 'Race', 'Marital Status', 'T Stage ', 'N Stage', '6th Stage',\n",
       "       'differentiate', 'Grade', 'A Stage', 'Tumor Size', 'Estrogen Status',\n",
       "       'Progesterone Status', 'Regional Node Examined',\n",
       "       'Reginol Node Positive', 'Survival Months', 'Status'],\n",
       "      dtype='object')"
      ]
     },
     "execution_count": 8,
     "metadata": {},
     "output_type": "execute_result"
    }
   ],
   "source": [
    "data.columns"
   ]
  },
  {
   "cell_type": "code",
   "execution_count": 9,
   "id": "1faa713e-58dc-428e-b7c7-afc9af3900c3",
   "metadata": {},
   "outputs": [
    {
     "data": {
      "text/plain": [
       "(4023, 16)"
      ]
     },
     "execution_count": 9,
     "metadata": {},
     "output_type": "execute_result"
    }
   ],
   "source": [
    "data.shape"
   ]
  },
  {
   "cell_type": "code",
   "execution_count": 10,
   "id": "e3e0b276-87b7-4804-9dad-53ac76efb099",
   "metadata": {},
   "outputs": [
    {
     "data": {
      "text/plain": [
       "array(['Alive', 'Dead'], dtype=object)"
      ]
     },
     "execution_count": 10,
     "metadata": {},
     "output_type": "execute_result"
    }
   ],
   "source": [
    "data.Status.unique()"
   ]
  },
  {
   "cell_type": "code",
   "execution_count": 11,
   "id": "17db6996-30e1-47c7-9b20-11203f53d813",
   "metadata": {},
   "outputs": [],
   "source": [
    "status_mapping = {\n",
    "    'Alive': 1,\n",
    "    'Dead': 0,\n",
    "}\n",
    "\n",
    "# Apply the mapping to the 'Status' column\n",
    "data['Status'] = data['Status'].map(status_mapping)"
   ]
  },
  {
   "cell_type": "code",
   "execution_count": 12,
   "id": "5732c3c3-6076-41ad-ae6d-e38c16f0e5a4",
   "metadata": {},
   "outputs": [
    {
     "data": {
      "text/plain": [
       "array([1, 0], dtype=int64)"
      ]
     },
     "execution_count": 12,
     "metadata": {},
     "output_type": "execute_result"
    }
   ],
   "source": [
    "data[\"Status\"].unique()"
   ]
  },
  {
   "cell_type": "code",
   "execution_count": 13,
   "id": "f8693b74-14ac-43da-9aa0-9b1e3abfccc7",
   "metadata": {},
   "outputs": [
    {
     "data": {
      "text/plain": [
       "array([ 60,  62,  75,  84,  50,  89,  54,  14,  70,  92,  64,  56,  38,\n",
       "        49, 105, 107,  77,  81,  78, 102,  98,  82,  86,  52,  90,  31,\n",
       "        37, 103,  42,  61,  63,  39,  59,  71,  74,  73,  91, 106,  80,\n",
       "        44,  85,  79, 104,  12,  95,  55, 101,  65,  72,  57,  87,  40,\n",
       "        25,   8,  53,  58,  24,  66,  69,  93,  94, 100,  96,  41,  67,\n",
       "        51,  13,  11,  47,  23,  45,  68,  76,  15,  16,  99,   7,  48,\n",
       "        88,  34,  97,  83,  17,   3,  22,  30,   6,  32,   9,   5,  10,\n",
       "        19,  18,  35,  27,  36,   4,  29,  33,  26,  20,  28,  43,   1,\n",
       "        46,  21,   2], dtype=int64)"
      ]
     },
     "execution_count": 13,
     "metadata": {},
     "output_type": "execute_result"
    }
   ],
   "source": [
    "data['Survival Months'].unique()"
   ]
  },
  {
   "cell_type": "code",
   "execution_count": 14,
   "id": "e27127cd-8149-413d-b711-7fa290c081e0",
   "metadata": {},
   "outputs": [
    {
     "name": "stdout",
     "output_type": "stream",
     "text": [
      "<class 'pandas.core.frame.DataFrame'>\n",
      "Index: 4023 entries, 0 to 4023\n",
      "Data columns (total 16 columns):\n",
      " #   Column                  Non-Null Count  Dtype \n",
      "---  ------                  --------------  ----- \n",
      " 0   Age                     4023 non-null   int64 \n",
      " 1   Race                    4023 non-null   object\n",
      " 2   Marital Status          4023 non-null   object\n",
      " 3   T Stage                 4023 non-null   object\n",
      " 4   N Stage                 4023 non-null   object\n",
      " 5   6th Stage               4023 non-null   object\n",
      " 6   differentiate           4023 non-null   object\n",
      " 7   Grade                   4023 non-null   object\n",
      " 8   A Stage                 4023 non-null   object\n",
      " 9   Tumor Size              4023 non-null   int64 \n",
      " 10  Estrogen Status         4023 non-null   object\n",
      " 11  Progesterone Status     4023 non-null   object\n",
      " 12  Regional Node Examined  4023 non-null   int64 \n",
      " 13  Reginol Node Positive   4023 non-null   int64 \n",
      " 14  Survival Months         4023 non-null   int64 \n",
      " 15  Status                  4023 non-null   int64 \n",
      "dtypes: int64(6), object(10)\n",
      "memory usage: 534.3+ KB\n"
     ]
    }
   ],
   "source": [
    "data.info()"
   ]
  },
  {
   "cell_type": "code",
   "execution_count": 15,
   "id": "ed5890bc-e95b-42ea-8c26-e59ac492b660",
   "metadata": {},
   "outputs": [
    {
     "data": {
      "text/plain": [
       "array(['White', 'Black', 'Other'], dtype=object)"
      ]
     },
     "execution_count": 15,
     "metadata": {},
     "output_type": "execute_result"
    }
   ],
   "source": [
    "data.Race.unique()"
   ]
  },
  {
   "cell_type": "code",
   "execution_count": 16,
   "id": "1575d762-deba-4bc3-b3bb-e968626d7d69",
   "metadata": {},
   "outputs": [],
   "source": [
    "race_mapping = {\n",
    "    'White': 0,\n",
    "    'Black': 1,\n",
    "    'Other': 2\n",
    "}\n",
    "\n",
    "# Apply the mapping to the 'Status' column\n",
    "data['Race'] = data['Race'].map(race_mapping)"
   ]
  },
  {
   "cell_type": "code",
   "execution_count": 17,
   "id": "3b8af4ce-3624-4e17-829e-5b8c1a34735f",
   "metadata": {},
   "outputs": [
    {
     "data": {
      "text/plain": [
       "array([0, 1, 2], dtype=int64)"
      ]
     },
     "execution_count": 17,
     "metadata": {},
     "output_type": "execute_result"
    }
   ],
   "source": [
    "data.Race.unique()"
   ]
  },
  {
   "cell_type": "code",
   "execution_count": 18,
   "id": "8550cb3a-f265-49b6-a196-2b6244e7688d",
   "metadata": {},
   "outputs": [
    {
     "name": "stdout",
     "output_type": "stream",
     "text": [
      "<class 'pandas.core.frame.DataFrame'>\n",
      "Index: 4023 entries, 0 to 4023\n",
      "Data columns (total 16 columns):\n",
      " #   Column                  Non-Null Count  Dtype \n",
      "---  ------                  --------------  ----- \n",
      " 0   Age                     4023 non-null   int64 \n",
      " 1   Race                    4023 non-null   int64 \n",
      " 2   Marital Status          4023 non-null   object\n",
      " 3   T Stage                 4023 non-null   object\n",
      " 4   N Stage                 4023 non-null   object\n",
      " 5   6th Stage               4023 non-null   object\n",
      " 6   differentiate           4023 non-null   object\n",
      " 7   Grade                   4023 non-null   object\n",
      " 8   A Stage                 4023 non-null   object\n",
      " 9   Tumor Size              4023 non-null   int64 \n",
      " 10  Estrogen Status         4023 non-null   object\n",
      " 11  Progesterone Status     4023 non-null   object\n",
      " 12  Regional Node Examined  4023 non-null   int64 \n",
      " 13  Reginol Node Positive   4023 non-null   int64 \n",
      " 14  Survival Months         4023 non-null   int64 \n",
      " 15  Status                  4023 non-null   int64 \n",
      "dtypes: int64(7), object(9)\n",
      "memory usage: 534.3+ KB\n"
     ]
    }
   ],
   "source": [
    "data.info()"
   ]
  },
  {
   "cell_type": "code",
   "execution_count": 19,
   "id": "cdad8e7f-2afb-4bc1-839b-1e3b2e9d4cba",
   "metadata": {},
   "outputs": [
    {
     "data": {
      "text/plain": [
       "array(['Married', 'Divorced', 'Single ', 'Widowed', 'Separated'],\n",
       "      dtype=object)"
      ]
     },
     "execution_count": 19,
     "metadata": {},
     "output_type": "execute_result"
    }
   ],
   "source": [
    "data['Marital Status'].unique()"
   ]
  },
  {
   "cell_type": "code",
   "execution_count": 20,
   "id": "a6cf98d4-aa8a-4e6a-b313-f868453c1e6e",
   "metadata": {},
   "outputs": [],
   "source": [
    "from sklearn.preprocessing import LabelEncoder"
   ]
  },
  {
   "cell_type": "code",
   "execution_count": 21,
   "id": "81b6a01c-4ea4-4e3b-8ec8-32454a255cb0",
   "metadata": {},
   "outputs": [],
   "source": [
    "LE = LabelEncoder()"
   ]
  },
  {
   "cell_type": "code",
   "execution_count": 22,
   "id": "67fd0dad-0838-402f-a75a-c6b0c2e1f810",
   "metadata": {},
   "outputs": [],
   "source": [
    "data['Marital Status'] = LE.fit_transform(data['Marital Status'])"
   ]
  },
  {
   "cell_type": "code",
   "execution_count": 23,
   "id": "c5044484-77dc-48e9-b3c2-4c52c5f6bdab",
   "metadata": {},
   "outputs": [
    {
     "data": {
      "text/plain": [
       "array([1, 0, 3, 4, 2])"
      ]
     },
     "execution_count": 23,
     "metadata": {},
     "output_type": "execute_result"
    }
   ],
   "source": [
    "data['Marital Status'].unique()"
   ]
  },
  {
   "cell_type": "code",
   "execution_count": 24,
   "id": "c32f7dd3-8443-46b5-b2d6-602f68f5aa13",
   "metadata": {},
   "outputs": [
    {
     "name": "stdout",
     "output_type": "stream",
     "text": [
      "<class 'pandas.core.frame.DataFrame'>\n",
      "Index: 4023 entries, 0 to 4023\n",
      "Data columns (total 16 columns):\n",
      " #   Column                  Non-Null Count  Dtype \n",
      "---  ------                  --------------  ----- \n",
      " 0   Age                     4023 non-null   int64 \n",
      " 1   Race                    4023 non-null   int64 \n",
      " 2   Marital Status          4023 non-null   int32 \n",
      " 3   T Stage                 4023 non-null   object\n",
      " 4   N Stage                 4023 non-null   object\n",
      " 5   6th Stage               4023 non-null   object\n",
      " 6   differentiate           4023 non-null   object\n",
      " 7   Grade                   4023 non-null   object\n",
      " 8   A Stage                 4023 non-null   object\n",
      " 9   Tumor Size              4023 non-null   int64 \n",
      " 10  Estrogen Status         4023 non-null   object\n",
      " 11  Progesterone Status     4023 non-null   object\n",
      " 12  Regional Node Examined  4023 non-null   int64 \n",
      " 13  Reginol Node Positive   4023 non-null   int64 \n",
      " 14  Survival Months         4023 non-null   int64 \n",
      " 15  Status                  4023 non-null   int64 \n",
      "dtypes: int32(1), int64(7), object(8)\n",
      "memory usage: 518.6+ KB\n"
     ]
    }
   ],
   "source": [
    "data.info()"
   ]
  },
  {
   "cell_type": "code",
   "execution_count": 25,
   "id": "5bba3a3e-8bc5-4a56-89c4-34663a9c6d48",
   "metadata": {},
   "outputs": [
    {
     "data": {
      "text/plain": [
       "array(['T1', 'T2', 'T3', 'T4'], dtype=object)"
      ]
     },
     "execution_count": 25,
     "metadata": {},
     "output_type": "execute_result"
    }
   ],
   "source": [
    "data['T Stage '].unique()"
   ]
  },
  {
   "cell_type": "code",
   "execution_count": 26,
   "id": "798c4ef0-576c-4329-966b-d9762a6a2552",
   "metadata": {},
   "outputs": [],
   "source": [
    "data['T Stage '] = LE.fit_transform(data['T Stage '])"
   ]
  },
  {
   "cell_type": "code",
   "execution_count": 27,
   "id": "893ed605-afc8-4486-b0e1-fb3e36453ebd",
   "metadata": {},
   "outputs": [
    {
     "data": {
      "text/plain": [
       "array([0, 1, 2, 3])"
      ]
     },
     "execution_count": 27,
     "metadata": {},
     "output_type": "execute_result"
    }
   ],
   "source": [
    "data['T Stage '].unique()"
   ]
  },
  {
   "cell_type": "code",
   "execution_count": 28,
   "id": "f1cb45d0-b87d-4230-b6db-91b5cdc08cf8",
   "metadata": {},
   "outputs": [
    {
     "name": "stdout",
     "output_type": "stream",
     "text": [
      "<class 'pandas.core.frame.DataFrame'>\n",
      "Index: 4023 entries, 0 to 4023\n",
      "Data columns (total 16 columns):\n",
      " #   Column                  Non-Null Count  Dtype \n",
      "---  ------                  --------------  ----- \n",
      " 0   Age                     4023 non-null   int64 \n",
      " 1   Race                    4023 non-null   int64 \n",
      " 2   Marital Status          4023 non-null   int32 \n",
      " 3   T Stage                 4023 non-null   int32 \n",
      " 4   N Stage                 4023 non-null   object\n",
      " 5   6th Stage               4023 non-null   object\n",
      " 6   differentiate           4023 non-null   object\n",
      " 7   Grade                   4023 non-null   object\n",
      " 8   A Stage                 4023 non-null   object\n",
      " 9   Tumor Size              4023 non-null   int64 \n",
      " 10  Estrogen Status         4023 non-null   object\n",
      " 11  Progesterone Status     4023 non-null   object\n",
      " 12  Regional Node Examined  4023 non-null   int64 \n",
      " 13  Reginol Node Positive   4023 non-null   int64 \n",
      " 14  Survival Months         4023 non-null   int64 \n",
      " 15  Status                  4023 non-null   int64 \n",
      "dtypes: int32(2), int64(7), object(7)\n",
      "memory usage: 502.9+ KB\n"
     ]
    }
   ],
   "source": [
    "data.info()"
   ]
  },
  {
   "cell_type": "code",
   "execution_count": 29,
   "id": "b4fc92b7-e8a6-46d3-b8f6-6f569d3d6972",
   "metadata": {},
   "outputs": [
    {
     "data": {
      "text/plain": [
       "array(['N1', 'N2', 'N3'], dtype=object)"
      ]
     },
     "execution_count": 29,
     "metadata": {},
     "output_type": "execute_result"
    }
   ],
   "source": [
    "data['N Stage'].unique()"
   ]
  },
  {
   "cell_type": "code",
   "execution_count": 30,
   "id": "0bc6471c-8c39-406f-a538-3271bf06f867",
   "metadata": {},
   "outputs": [],
   "source": [
    "data['N Stage'] = LE.fit_transform(data['N Stage'])"
   ]
  },
  {
   "cell_type": "code",
   "execution_count": 31,
   "id": "00d9db38-1636-40d7-9244-cc17eb529fbd",
   "metadata": {},
   "outputs": [
    {
     "data": {
      "text/plain": [
       "array([0, 1, 2])"
      ]
     },
     "execution_count": 31,
     "metadata": {},
     "output_type": "execute_result"
    }
   ],
   "source": [
    "data['N Stage'].unique()"
   ]
  },
  {
   "cell_type": "code",
   "execution_count": 32,
   "id": "9924afc9-5993-4786-b8d8-6d53b59c48d9",
   "metadata": {},
   "outputs": [
    {
     "name": "stdout",
     "output_type": "stream",
     "text": [
      "<class 'pandas.core.frame.DataFrame'>\n",
      "Index: 4023 entries, 0 to 4023\n",
      "Data columns (total 16 columns):\n",
      " #   Column                  Non-Null Count  Dtype \n",
      "---  ------                  --------------  ----- \n",
      " 0   Age                     4023 non-null   int64 \n",
      " 1   Race                    4023 non-null   int64 \n",
      " 2   Marital Status          4023 non-null   int32 \n",
      " 3   T Stage                 4023 non-null   int32 \n",
      " 4   N Stage                 4023 non-null   int32 \n",
      " 5   6th Stage               4023 non-null   object\n",
      " 6   differentiate           4023 non-null   object\n",
      " 7   Grade                   4023 non-null   object\n",
      " 8   A Stage                 4023 non-null   object\n",
      " 9   Tumor Size              4023 non-null   int64 \n",
      " 10  Estrogen Status         4023 non-null   object\n",
      " 11  Progesterone Status     4023 non-null   object\n",
      " 12  Regional Node Examined  4023 non-null   int64 \n",
      " 13  Reginol Node Positive   4023 non-null   int64 \n",
      " 14  Survival Months         4023 non-null   int64 \n",
      " 15  Status                  4023 non-null   int64 \n",
      "dtypes: int32(3), int64(7), object(6)\n",
      "memory usage: 487.2+ KB\n"
     ]
    }
   ],
   "source": [
    "data.info()"
   ]
  },
  {
   "cell_type": "code",
   "execution_count": 33,
   "id": "3def355d-4e8b-4a38-b1e6-e3cb24cb87af",
   "metadata": {},
   "outputs": [
    {
     "data": {
      "text/plain": [
       "array(['IIA', 'IIIA', 'IIIC', 'IIB', 'IIIB'], dtype=object)"
      ]
     },
     "execution_count": 33,
     "metadata": {},
     "output_type": "execute_result"
    }
   ],
   "source": [
    "data[\"6th Stage\"].unique()"
   ]
  },
  {
   "cell_type": "code",
   "execution_count": 34,
   "id": "5eac225d-4984-4e2d-a31d-58c81cc3c941",
   "metadata": {},
   "outputs": [],
   "source": [
    "data['6th Stage'] = LE.fit_transform(data['6th Stage'])"
   ]
  },
  {
   "cell_type": "code",
   "execution_count": 35,
   "id": "91a1bdbc-96c2-4818-b6c2-190cf4df88f1",
   "metadata": {},
   "outputs": [
    {
     "data": {
      "text/plain": [
       "array([0, 2, 4, 1, 3])"
      ]
     },
     "execution_count": 35,
     "metadata": {},
     "output_type": "execute_result"
    }
   ],
   "source": [
    "data[\"6th Stage\"].unique()"
   ]
  },
  {
   "cell_type": "code",
   "execution_count": 36,
   "id": "b69a7a17-ed08-4f27-a9ec-81e26bcee7cd",
   "metadata": {},
   "outputs": [
    {
     "name": "stdout",
     "output_type": "stream",
     "text": [
      "<class 'pandas.core.frame.DataFrame'>\n",
      "Index: 4023 entries, 0 to 4023\n",
      "Data columns (total 16 columns):\n",
      " #   Column                  Non-Null Count  Dtype \n",
      "---  ------                  --------------  ----- \n",
      " 0   Age                     4023 non-null   int64 \n",
      " 1   Race                    4023 non-null   int64 \n",
      " 2   Marital Status          4023 non-null   int32 \n",
      " 3   T Stage                 4023 non-null   int32 \n",
      " 4   N Stage                 4023 non-null   int32 \n",
      " 5   6th Stage               4023 non-null   int32 \n",
      " 6   differentiate           4023 non-null   object\n",
      " 7   Grade                   4023 non-null   object\n",
      " 8   A Stage                 4023 non-null   object\n",
      " 9   Tumor Size              4023 non-null   int64 \n",
      " 10  Estrogen Status         4023 non-null   object\n",
      " 11  Progesterone Status     4023 non-null   object\n",
      " 12  Regional Node Examined  4023 non-null   int64 \n",
      " 13  Reginol Node Positive   4023 non-null   int64 \n",
      " 14  Survival Months         4023 non-null   int64 \n",
      " 15  Status                  4023 non-null   int64 \n",
      "dtypes: int32(4), int64(7), object(5)\n",
      "memory usage: 471.4+ KB\n"
     ]
    }
   ],
   "source": [
    "data.info()"
   ]
  },
  {
   "cell_type": "code",
   "execution_count": 37,
   "id": "30255b47-7882-478b-837d-2154a28bde6b",
   "metadata": {},
   "outputs": [
    {
     "data": {
      "text/plain": [
       "array(['Poorly differentiated', 'Moderately differentiated',\n",
       "       'Well differentiated', 'Undifferentiated'], dtype=object)"
      ]
     },
     "execution_count": 37,
     "metadata": {},
     "output_type": "execute_result"
    }
   ],
   "source": [
    "data.differentiate.unique()"
   ]
  },
  {
   "cell_type": "code",
   "execution_count": 38,
   "id": "89fe8589-98be-441a-a35b-8f29faad5f3f",
   "metadata": {},
   "outputs": [],
   "source": [
    "data['differentiate'] = LE.fit_transform(data['differentiate'])"
   ]
  },
  {
   "cell_type": "code",
   "execution_count": 39,
   "id": "2ce1d309-7149-4c74-9051-7528583fc252",
   "metadata": {},
   "outputs": [
    {
     "data": {
      "text/plain": [
       "array([1, 0, 3, 2])"
      ]
     },
     "execution_count": 39,
     "metadata": {},
     "output_type": "execute_result"
    }
   ],
   "source": [
    "data.differentiate.unique()"
   ]
  },
  {
   "cell_type": "code",
   "execution_count": 40,
   "id": "fb261fe5-b4c0-47d6-83d5-86c9ce14e06d",
   "metadata": {},
   "outputs": [
    {
     "name": "stdout",
     "output_type": "stream",
     "text": [
      "<class 'pandas.core.frame.DataFrame'>\n",
      "Index: 4023 entries, 0 to 4023\n",
      "Data columns (total 16 columns):\n",
      " #   Column                  Non-Null Count  Dtype \n",
      "---  ------                  --------------  ----- \n",
      " 0   Age                     4023 non-null   int64 \n",
      " 1   Race                    4023 non-null   int64 \n",
      " 2   Marital Status          4023 non-null   int32 \n",
      " 3   T Stage                 4023 non-null   int32 \n",
      " 4   N Stage                 4023 non-null   int32 \n",
      " 5   6th Stage               4023 non-null   int32 \n",
      " 6   differentiate           4023 non-null   int32 \n",
      " 7   Grade                   4023 non-null   object\n",
      " 8   A Stage                 4023 non-null   object\n",
      " 9   Tumor Size              4023 non-null   int64 \n",
      " 10  Estrogen Status         4023 non-null   object\n",
      " 11  Progesterone Status     4023 non-null   object\n",
      " 12  Regional Node Examined  4023 non-null   int64 \n",
      " 13  Reginol Node Positive   4023 non-null   int64 \n",
      " 14  Survival Months         4023 non-null   int64 \n",
      " 15  Status                  4023 non-null   int64 \n",
      "dtypes: int32(5), int64(7), object(4)\n",
      "memory usage: 455.7+ KB\n"
     ]
    }
   ],
   "source": [
    "data.info()"
   ]
  },
  {
   "cell_type": "code",
   "execution_count": 41,
   "id": "ddc3e189-e879-47bd-a669-06408885250e",
   "metadata": {},
   "outputs": [
    {
     "data": {
      "text/plain": [
       "array(['3', '2', '1', ' anaplastic; Grade IV'], dtype=object)"
      ]
     },
     "execution_count": 41,
     "metadata": {},
     "output_type": "execute_result"
    }
   ],
   "source": [
    "data.Grade.unique()"
   ]
  },
  {
   "cell_type": "code",
   "execution_count": 42,
   "id": "d3040594-4120-4feb-b13a-ff18692b635e",
   "metadata": {},
   "outputs": [
    {
     "data": {
      "text/html": [
       "<div>\n",
       "<style scoped>\n",
       "    .dataframe tbody tr th:only-of-type {\n",
       "        vertical-align: middle;\n",
       "    }\n",
       "\n",
       "    .dataframe tbody tr th {\n",
       "        vertical-align: top;\n",
       "    }\n",
       "\n",
       "    .dataframe thead th {\n",
       "        text-align: right;\n",
       "    }\n",
       "</style>\n",
       "<table border=\"1\" class=\"dataframe\">\n",
       "  <thead>\n",
       "    <tr style=\"text-align: right;\">\n",
       "      <th></th>\n",
       "      <th>Age</th>\n",
       "      <th>Race</th>\n",
       "      <th>Marital Status</th>\n",
       "      <th>T Stage</th>\n",
       "      <th>N Stage</th>\n",
       "      <th>6th Stage</th>\n",
       "      <th>differentiate</th>\n",
       "      <th>Grade</th>\n",
       "      <th>A Stage</th>\n",
       "      <th>Tumor Size</th>\n",
       "      <th>Estrogen Status</th>\n",
       "      <th>Progesterone Status</th>\n",
       "      <th>Regional Node Examined</th>\n",
       "      <th>Reginol Node Positive</th>\n",
       "      <th>Survival Months</th>\n",
       "      <th>Status</th>\n",
       "    </tr>\n",
       "  </thead>\n",
       "  <tbody>\n",
       "    <tr>\n",
       "      <th>277</th>\n",
       "      <td>52</td>\n",
       "      <td>1</td>\n",
       "      <td>3</td>\n",
       "      <td>2</td>\n",
       "      <td>2</td>\n",
       "      <td>4</td>\n",
       "      <td>2</td>\n",
       "      <td>anaplastic; Grade IV</td>\n",
       "      <td>Regional</td>\n",
       "      <td>100</td>\n",
       "      <td>Positive</td>\n",
       "      <td>Positive</td>\n",
       "      <td>23</td>\n",
       "      <td>17</td>\n",
       "      <td>16</td>\n",
       "      <td>0</td>\n",
       "    </tr>\n",
       "    <tr>\n",
       "      <th>616</th>\n",
       "      <td>38</td>\n",
       "      <td>0</td>\n",
       "      <td>1</td>\n",
       "      <td>2</td>\n",
       "      <td>0</td>\n",
       "      <td>2</td>\n",
       "      <td>2</td>\n",
       "      <td>anaplastic; Grade IV</td>\n",
       "      <td>Regional</td>\n",
       "      <td>70</td>\n",
       "      <td>Positive</td>\n",
       "      <td>Positive</td>\n",
       "      <td>10</td>\n",
       "      <td>1</td>\n",
       "      <td>102</td>\n",
       "      <td>1</td>\n",
       "    </tr>\n",
       "    <tr>\n",
       "      <th>618</th>\n",
       "      <td>37</td>\n",
       "      <td>1</td>\n",
       "      <td>1</td>\n",
       "      <td>2</td>\n",
       "      <td>0</td>\n",
       "      <td>2</td>\n",
       "      <td>2</td>\n",
       "      <td>anaplastic; Grade IV</td>\n",
       "      <td>Regional</td>\n",
       "      <td>60</td>\n",
       "      <td>Positive</td>\n",
       "      <td>Positive</td>\n",
       "      <td>5</td>\n",
       "      <td>2</td>\n",
       "      <td>97</td>\n",
       "      <td>1</td>\n",
       "    </tr>\n",
       "    <tr>\n",
       "      <th>767</th>\n",
       "      <td>69</td>\n",
       "      <td>0</td>\n",
       "      <td>1</td>\n",
       "      <td>0</td>\n",
       "      <td>0</td>\n",
       "      <td>0</td>\n",
       "      <td>2</td>\n",
       "      <td>anaplastic; Grade IV</td>\n",
       "      <td>Regional</td>\n",
       "      <td>20</td>\n",
       "      <td>Positive</td>\n",
       "      <td>Positive</td>\n",
       "      <td>17</td>\n",
       "      <td>3</td>\n",
       "      <td>85</td>\n",
       "      <td>1</td>\n",
       "    </tr>\n",
       "    <tr>\n",
       "      <th>1013</th>\n",
       "      <td>59</td>\n",
       "      <td>0</td>\n",
       "      <td>3</td>\n",
       "      <td>1</td>\n",
       "      <td>1</td>\n",
       "      <td>2</td>\n",
       "      <td>2</td>\n",
       "      <td>anaplastic; Grade IV</td>\n",
       "      <td>Regional</td>\n",
       "      <td>40</td>\n",
       "      <td>Negative</td>\n",
       "      <td>Negative</td>\n",
       "      <td>10</td>\n",
       "      <td>9</td>\n",
       "      <td>33</td>\n",
       "      <td>0</td>\n",
       "    </tr>\n",
       "    <tr>\n",
       "      <th>1061</th>\n",
       "      <td>67</td>\n",
       "      <td>0</td>\n",
       "      <td>1</td>\n",
       "      <td>1</td>\n",
       "      <td>2</td>\n",
       "      <td>4</td>\n",
       "      <td>2</td>\n",
       "      <td>anaplastic; Grade IV</td>\n",
       "      <td>Regional</td>\n",
       "      <td>21</td>\n",
       "      <td>Positive</td>\n",
       "      <td>Positive</td>\n",
       "      <td>25</td>\n",
       "      <td>17</td>\n",
       "      <td>75</td>\n",
       "      <td>1</td>\n",
       "    </tr>\n",
       "    <tr>\n",
       "      <th>1458</th>\n",
       "      <td>39</td>\n",
       "      <td>0</td>\n",
       "      <td>3</td>\n",
       "      <td>2</td>\n",
       "      <td>1</td>\n",
       "      <td>2</td>\n",
       "      <td>2</td>\n",
       "      <td>anaplastic; Grade IV</td>\n",
       "      <td>Regional</td>\n",
       "      <td>70</td>\n",
       "      <td>Positive</td>\n",
       "      <td>Positive</td>\n",
       "      <td>14</td>\n",
       "      <td>4</td>\n",
       "      <td>79</td>\n",
       "      <td>0</td>\n",
       "    </tr>\n",
       "    <tr>\n",
       "      <th>1541</th>\n",
       "      <td>69</td>\n",
       "      <td>0</td>\n",
       "      <td>4</td>\n",
       "      <td>1</td>\n",
       "      <td>2</td>\n",
       "      <td>4</td>\n",
       "      <td>2</td>\n",
       "      <td>anaplastic; Grade IV</td>\n",
       "      <td>Regional</td>\n",
       "      <td>28</td>\n",
       "      <td>Positive</td>\n",
       "      <td>Positive</td>\n",
       "      <td>14</td>\n",
       "      <td>13</td>\n",
       "      <td>13</td>\n",
       "      <td>0</td>\n",
       "    </tr>\n",
       "    <tr>\n",
       "      <th>1560</th>\n",
       "      <td>58</td>\n",
       "      <td>0</td>\n",
       "      <td>3</td>\n",
       "      <td>0</td>\n",
       "      <td>1</td>\n",
       "      <td>2</td>\n",
       "      <td>2</td>\n",
       "      <td>anaplastic; Grade IV</td>\n",
       "      <td>Regional</td>\n",
       "      <td>19</td>\n",
       "      <td>Negative</td>\n",
       "      <td>Negative</td>\n",
       "      <td>47</td>\n",
       "      <td>7</td>\n",
       "      <td>9</td>\n",
       "      <td>0</td>\n",
       "    </tr>\n",
       "    <tr>\n",
       "      <th>1716</th>\n",
       "      <td>43</td>\n",
       "      <td>0</td>\n",
       "      <td>1</td>\n",
       "      <td>2</td>\n",
       "      <td>1</td>\n",
       "      <td>2</td>\n",
       "      <td>2</td>\n",
       "      <td>anaplastic; Grade IV</td>\n",
       "      <td>Regional</td>\n",
       "      <td>75</td>\n",
       "      <td>Negative</td>\n",
       "      <td>Negative</td>\n",
       "      <td>10</td>\n",
       "      <td>5</td>\n",
       "      <td>59</td>\n",
       "      <td>0</td>\n",
       "    </tr>\n",
       "    <tr>\n",
       "      <th>2172</th>\n",
       "      <td>62</td>\n",
       "      <td>1</td>\n",
       "      <td>2</td>\n",
       "      <td>3</td>\n",
       "      <td>2</td>\n",
       "      <td>4</td>\n",
       "      <td>2</td>\n",
       "      <td>anaplastic; Grade IV</td>\n",
       "      <td>Regional</td>\n",
       "      <td>70</td>\n",
       "      <td>Positive</td>\n",
       "      <td>Positive</td>\n",
       "      <td>10</td>\n",
       "      <td>10</td>\n",
       "      <td>34</td>\n",
       "      <td>0</td>\n",
       "    </tr>\n",
       "    <tr>\n",
       "      <th>2177</th>\n",
       "      <td>63</td>\n",
       "      <td>0</td>\n",
       "      <td>1</td>\n",
       "      <td>1</td>\n",
       "      <td>0</td>\n",
       "      <td>1</td>\n",
       "      <td>2</td>\n",
       "      <td>anaplastic; Grade IV</td>\n",
       "      <td>Regional</td>\n",
       "      <td>25</td>\n",
       "      <td>Negative</td>\n",
       "      <td>Positive</td>\n",
       "      <td>10</td>\n",
       "      <td>2</td>\n",
       "      <td>27</td>\n",
       "      <td>0</td>\n",
       "    </tr>\n",
       "    <tr>\n",
       "      <th>2246</th>\n",
       "      <td>50</td>\n",
       "      <td>0</td>\n",
       "      <td>1</td>\n",
       "      <td>2</td>\n",
       "      <td>0</td>\n",
       "      <td>2</td>\n",
       "      <td>2</td>\n",
       "      <td>anaplastic; Grade IV</td>\n",
       "      <td>Regional</td>\n",
       "      <td>55</td>\n",
       "      <td>Positive</td>\n",
       "      <td>Positive</td>\n",
       "      <td>12</td>\n",
       "      <td>1</td>\n",
       "      <td>89</td>\n",
       "      <td>1</td>\n",
       "    </tr>\n",
       "    <tr>\n",
       "      <th>2411</th>\n",
       "      <td>57</td>\n",
       "      <td>0</td>\n",
       "      <td>1</td>\n",
       "      <td>0</td>\n",
       "      <td>0</td>\n",
       "      <td>0</td>\n",
       "      <td>2</td>\n",
       "      <td>anaplastic; Grade IV</td>\n",
       "      <td>Regional</td>\n",
       "      <td>18</td>\n",
       "      <td>Positive</td>\n",
       "      <td>Positive</td>\n",
       "      <td>5</td>\n",
       "      <td>1</td>\n",
       "      <td>98</td>\n",
       "      <td>1</td>\n",
       "    </tr>\n",
       "    <tr>\n",
       "      <th>2717</th>\n",
       "      <td>40</td>\n",
       "      <td>0</td>\n",
       "      <td>3</td>\n",
       "      <td>2</td>\n",
       "      <td>0</td>\n",
       "      <td>2</td>\n",
       "      <td>2</td>\n",
       "      <td>anaplastic; Grade IV</td>\n",
       "      <td>Regional</td>\n",
       "      <td>52</td>\n",
       "      <td>Positive</td>\n",
       "      <td>Positive</td>\n",
       "      <td>11</td>\n",
       "      <td>9</td>\n",
       "      <td>88</td>\n",
       "      <td>1</td>\n",
       "    </tr>\n",
       "    <tr>\n",
       "      <th>3073</th>\n",
       "      <td>43</td>\n",
       "      <td>0</td>\n",
       "      <td>1</td>\n",
       "      <td>3</td>\n",
       "      <td>2</td>\n",
       "      <td>4</td>\n",
       "      <td>2</td>\n",
       "      <td>anaplastic; Grade IV</td>\n",
       "      <td>Regional</td>\n",
       "      <td>59</td>\n",
       "      <td>Negative</td>\n",
       "      <td>Positive</td>\n",
       "      <td>16</td>\n",
       "      <td>10</td>\n",
       "      <td>55</td>\n",
       "      <td>1</td>\n",
       "    </tr>\n",
       "    <tr>\n",
       "      <th>3212</th>\n",
       "      <td>54</td>\n",
       "      <td>0</td>\n",
       "      <td>0</td>\n",
       "      <td>0</td>\n",
       "      <td>0</td>\n",
       "      <td>0</td>\n",
       "      <td>2</td>\n",
       "      <td>anaplastic; Grade IV</td>\n",
       "      <td>Regional</td>\n",
       "      <td>16</td>\n",
       "      <td>Positive</td>\n",
       "      <td>Negative</td>\n",
       "      <td>19</td>\n",
       "      <td>2</td>\n",
       "      <td>101</td>\n",
       "      <td>1</td>\n",
       "    </tr>\n",
       "    <tr>\n",
       "      <th>3248</th>\n",
       "      <td>45</td>\n",
       "      <td>0</td>\n",
       "      <td>1</td>\n",
       "      <td>0</td>\n",
       "      <td>0</td>\n",
       "      <td>0</td>\n",
       "      <td>2</td>\n",
       "      <td>anaplastic; Grade IV</td>\n",
       "      <td>Regional</td>\n",
       "      <td>13</td>\n",
       "      <td>Positive</td>\n",
       "      <td>Positive</td>\n",
       "      <td>5</td>\n",
       "      <td>1</td>\n",
       "      <td>93</td>\n",
       "      <td>1</td>\n",
       "    </tr>\n",
       "    <tr>\n",
       "      <th>3526</th>\n",
       "      <td>49</td>\n",
       "      <td>0</td>\n",
       "      <td>1</td>\n",
       "      <td>1</td>\n",
       "      <td>0</td>\n",
       "      <td>1</td>\n",
       "      <td>2</td>\n",
       "      <td>anaplastic; Grade IV</td>\n",
       "      <td>Regional</td>\n",
       "      <td>28</td>\n",
       "      <td>Positive</td>\n",
       "      <td>Positive</td>\n",
       "      <td>12</td>\n",
       "      <td>3</td>\n",
       "      <td>71</td>\n",
       "      <td>0</td>\n",
       "    </tr>\n",
       "  </tbody>\n",
       "</table>\n",
       "</div>"
      ],
      "text/plain": [
       "      Age  Race  Marital Status  T Stage   N Stage  6th Stage  differentiate  \\\n",
       "277    52     1               3         2        2          4              2   \n",
       "616    38     0               1         2        0          2              2   \n",
       "618    37     1               1         2        0          2              2   \n",
       "767    69     0               1         0        0          0              2   \n",
       "1013   59     0               3         1        1          2              2   \n",
       "1061   67     0               1         1        2          4              2   \n",
       "1458   39     0               3         2        1          2              2   \n",
       "1541   69     0               4         1        2          4              2   \n",
       "1560   58     0               3         0        1          2              2   \n",
       "1716   43     0               1         2        1          2              2   \n",
       "2172   62     1               2         3        2          4              2   \n",
       "2177   63     0               1         1        0          1              2   \n",
       "2246   50     0               1         2        0          2              2   \n",
       "2411   57     0               1         0        0          0              2   \n",
       "2717   40     0               3         2        0          2              2   \n",
       "3073   43     0               1         3        2          4              2   \n",
       "3212   54     0               0         0        0          0              2   \n",
       "3248   45     0               1         0        0          0              2   \n",
       "3526   49     0               1         1        0          1              2   \n",
       "\n",
       "                      Grade   A Stage  Tumor Size Estrogen Status  \\\n",
       "277    anaplastic; Grade IV  Regional         100        Positive   \n",
       "616    anaplastic; Grade IV  Regional          70        Positive   \n",
       "618    anaplastic; Grade IV  Regional          60        Positive   \n",
       "767    anaplastic; Grade IV  Regional          20        Positive   \n",
       "1013   anaplastic; Grade IV  Regional          40        Negative   \n",
       "1061   anaplastic; Grade IV  Regional          21        Positive   \n",
       "1458   anaplastic; Grade IV  Regional          70        Positive   \n",
       "1541   anaplastic; Grade IV  Regional          28        Positive   \n",
       "1560   anaplastic; Grade IV  Regional          19        Negative   \n",
       "1716   anaplastic; Grade IV  Regional          75        Negative   \n",
       "2172   anaplastic; Grade IV  Regional          70        Positive   \n",
       "2177   anaplastic; Grade IV  Regional          25        Negative   \n",
       "2246   anaplastic; Grade IV  Regional          55        Positive   \n",
       "2411   anaplastic; Grade IV  Regional          18        Positive   \n",
       "2717   anaplastic; Grade IV  Regional          52        Positive   \n",
       "3073   anaplastic; Grade IV  Regional          59        Negative   \n",
       "3212   anaplastic; Grade IV  Regional          16        Positive   \n",
       "3248   anaplastic; Grade IV  Regional          13        Positive   \n",
       "3526   anaplastic; Grade IV  Regional          28        Positive   \n",
       "\n",
       "     Progesterone Status  Regional Node Examined  Reginol Node Positive  \\\n",
       "277             Positive                      23                     17   \n",
       "616             Positive                      10                      1   \n",
       "618             Positive                       5                      2   \n",
       "767             Positive                      17                      3   \n",
       "1013            Negative                      10                      9   \n",
       "1061            Positive                      25                     17   \n",
       "1458            Positive                      14                      4   \n",
       "1541            Positive                      14                     13   \n",
       "1560            Negative                      47                      7   \n",
       "1716            Negative                      10                      5   \n",
       "2172            Positive                      10                     10   \n",
       "2177            Positive                      10                      2   \n",
       "2246            Positive                      12                      1   \n",
       "2411            Positive                       5                      1   \n",
       "2717            Positive                      11                      9   \n",
       "3073            Positive                      16                     10   \n",
       "3212            Negative                      19                      2   \n",
       "3248            Positive                       5                      1   \n",
       "3526            Positive                      12                      3   \n",
       "\n",
       "      Survival Months  Status  \n",
       "277                16       0  \n",
       "616               102       1  \n",
       "618                97       1  \n",
       "767                85       1  \n",
       "1013               33       0  \n",
       "1061               75       1  \n",
       "1458               79       0  \n",
       "1541               13       0  \n",
       "1560                9       0  \n",
       "1716               59       0  \n",
       "2172               34       0  \n",
       "2177               27       0  \n",
       "2246               89       1  \n",
       "2411               98       1  \n",
       "2717               88       1  \n",
       "3073               55       1  \n",
       "3212              101       1  \n",
       "3248               93       1  \n",
       "3526               71       0  "
      ]
     },
     "execution_count": 42,
     "metadata": {},
     "output_type": "execute_result"
    }
   ],
   "source": [
    "data[data[\"Grade\"]==' anaplastic; Grade IV']"
   ]
  },
  {
   "cell_type": "code",
   "execution_count": 43,
   "id": "045f4904-6c57-4629-a10a-e56e73be6a1b",
   "metadata": {},
   "outputs": [],
   "source": [
    "data['Grade'] = LE.fit_transform(data['Grade'])"
   ]
  },
  {
   "cell_type": "code",
   "execution_count": 44,
   "id": "173a2ee4-e3ca-465b-8f55-f1c33399f5b4",
   "metadata": {},
   "outputs": [
    {
     "data": {
      "text/plain": [
       "array([3, 2, 1, 0])"
      ]
     },
     "execution_count": 44,
     "metadata": {},
     "output_type": "execute_result"
    }
   ],
   "source": [
    "data.Grade.unique()"
   ]
  },
  {
   "cell_type": "code",
   "execution_count": 45,
   "id": "54cf9b1b-bc5c-47f9-bd0d-976145b4d741",
   "metadata": {},
   "outputs": [
    {
     "name": "stdout",
     "output_type": "stream",
     "text": [
      "<class 'pandas.core.frame.DataFrame'>\n",
      "Index: 4023 entries, 0 to 4023\n",
      "Data columns (total 16 columns):\n",
      " #   Column                  Non-Null Count  Dtype \n",
      "---  ------                  --------------  ----- \n",
      " 0   Age                     4023 non-null   int64 \n",
      " 1   Race                    4023 non-null   int64 \n",
      " 2   Marital Status          4023 non-null   int32 \n",
      " 3   T Stage                 4023 non-null   int32 \n",
      " 4   N Stage                 4023 non-null   int32 \n",
      " 5   6th Stage               4023 non-null   int32 \n",
      " 6   differentiate           4023 non-null   int32 \n",
      " 7   Grade                   4023 non-null   int32 \n",
      " 8   A Stage                 4023 non-null   object\n",
      " 9   Tumor Size              4023 non-null   int64 \n",
      " 10  Estrogen Status         4023 non-null   object\n",
      " 11  Progesterone Status     4023 non-null   object\n",
      " 12  Regional Node Examined  4023 non-null   int64 \n",
      " 13  Reginol Node Positive   4023 non-null   int64 \n",
      " 14  Survival Months         4023 non-null   int64 \n",
      " 15  Status                  4023 non-null   int64 \n",
      "dtypes: int32(6), int64(7), object(3)\n",
      "memory usage: 440.0+ KB\n"
     ]
    }
   ],
   "source": [
    "data.info()"
   ]
  },
  {
   "cell_type": "code",
   "execution_count": 46,
   "id": "fbb6d425-25b0-431a-a20e-768c15a9d35c",
   "metadata": {},
   "outputs": [
    {
     "data": {
      "text/plain": [
       "array(['Regional', 'Distant'], dtype=object)"
      ]
     },
     "execution_count": 46,
     "metadata": {},
     "output_type": "execute_result"
    }
   ],
   "source": [
    "data['A Stage'].unique()"
   ]
  },
  {
   "cell_type": "code",
   "execution_count": 47,
   "id": "f71fd4eb-533a-4693-af29-a70d57d1b57e",
   "metadata": {},
   "outputs": [],
   "source": [
    "data['A Stage'] = LE.fit_transform(data['A Stage'])"
   ]
  },
  {
   "cell_type": "code",
   "execution_count": 48,
   "id": "cef275b1-737b-4527-9d6e-ab1236fa4cf1",
   "metadata": {},
   "outputs": [
    {
     "data": {
      "text/plain": [
       "array([1, 0])"
      ]
     },
     "execution_count": 48,
     "metadata": {},
     "output_type": "execute_result"
    }
   ],
   "source": [
    "data['A Stage'].unique()"
   ]
  },
  {
   "cell_type": "code",
   "execution_count": 49,
   "id": "2428317a-9b91-4b7a-826d-40a88cba73dd",
   "metadata": {},
   "outputs": [
    {
     "name": "stdout",
     "output_type": "stream",
     "text": [
      "<class 'pandas.core.frame.DataFrame'>\n",
      "Index: 4023 entries, 0 to 4023\n",
      "Data columns (total 16 columns):\n",
      " #   Column                  Non-Null Count  Dtype \n",
      "---  ------                  --------------  ----- \n",
      " 0   Age                     4023 non-null   int64 \n",
      " 1   Race                    4023 non-null   int64 \n",
      " 2   Marital Status          4023 non-null   int32 \n",
      " 3   T Stage                 4023 non-null   int32 \n",
      " 4   N Stage                 4023 non-null   int32 \n",
      " 5   6th Stage               4023 non-null   int32 \n",
      " 6   differentiate           4023 non-null   int32 \n",
      " 7   Grade                   4023 non-null   int32 \n",
      " 8   A Stage                 4023 non-null   int32 \n",
      " 9   Tumor Size              4023 non-null   int64 \n",
      " 10  Estrogen Status         4023 non-null   object\n",
      " 11  Progesterone Status     4023 non-null   object\n",
      " 12  Regional Node Examined  4023 non-null   int64 \n",
      " 13  Reginol Node Positive   4023 non-null   int64 \n",
      " 14  Survival Months         4023 non-null   int64 \n",
      " 15  Status                  4023 non-null   int64 \n",
      "dtypes: int32(7), int64(7), object(2)\n",
      "memory usage: 424.3+ KB\n"
     ]
    }
   ],
   "source": [
    "data.info()"
   ]
  },
  {
   "cell_type": "code",
   "execution_count": 50,
   "id": "d29ffebc-0468-4af4-bc96-0f87e40cdaae",
   "metadata": {},
   "outputs": [
    {
     "data": {
      "text/plain": [
       "array(['Positive', 'Negative'], dtype=object)"
      ]
     },
     "execution_count": 50,
     "metadata": {},
     "output_type": "execute_result"
    }
   ],
   "source": [
    "data['Estrogen Status'].unique()"
   ]
  },
  {
   "cell_type": "code",
   "execution_count": 51,
   "id": "c882faa5-55c8-4f1e-a459-7072df75f5ec",
   "metadata": {},
   "outputs": [],
   "source": [
    "data['Estrogen Status'] = LE.fit_transform(data['Estrogen Status'])"
   ]
  },
  {
   "cell_type": "code",
   "execution_count": 52,
   "id": "e6b95988-5dea-43ab-8d0f-39d639f3efcc",
   "metadata": {},
   "outputs": [
    {
     "data": {
      "text/plain": [
       "array(['Positive', 'Negative'], dtype=object)"
      ]
     },
     "execution_count": 52,
     "metadata": {},
     "output_type": "execute_result"
    }
   ],
   "source": [
    "data['Progesterone Status'].unique()"
   ]
  },
  {
   "cell_type": "code",
   "execution_count": 53,
   "id": "797cb289-9273-4a14-9104-61067183f3e0",
   "metadata": {},
   "outputs": [],
   "source": [
    "data['Progesterone Status'] = LE.fit_transform(data['Progesterone Status'])"
   ]
  },
  {
   "cell_type": "code",
   "execution_count": 54,
   "id": "e2c2fdc8-944a-4742-b549-d6b6a5d74d3b",
   "metadata": {},
   "outputs": [
    {
     "name": "stdout",
     "output_type": "stream",
     "text": [
      "<class 'pandas.core.frame.DataFrame'>\n",
      "Index: 4023 entries, 0 to 4023\n",
      "Data columns (total 16 columns):\n",
      " #   Column                  Non-Null Count  Dtype\n",
      "---  ------                  --------------  -----\n",
      " 0   Age                     4023 non-null   int64\n",
      " 1   Race                    4023 non-null   int64\n",
      " 2   Marital Status          4023 non-null   int32\n",
      " 3   T Stage                 4023 non-null   int32\n",
      " 4   N Stage                 4023 non-null   int32\n",
      " 5   6th Stage               4023 non-null   int32\n",
      " 6   differentiate           4023 non-null   int32\n",
      " 7   Grade                   4023 non-null   int32\n",
      " 8   A Stage                 4023 non-null   int32\n",
      " 9   Tumor Size              4023 non-null   int64\n",
      " 10  Estrogen Status         4023 non-null   int32\n",
      " 11  Progesterone Status     4023 non-null   int32\n",
      " 12  Regional Node Examined  4023 non-null   int64\n",
      " 13  Reginol Node Positive   4023 non-null   int64\n",
      " 14  Survival Months         4023 non-null   int64\n",
      " 15  Status                  4023 non-null   int64\n",
      "dtypes: int32(9), int64(7)\n",
      "memory usage: 392.9 KB\n"
     ]
    }
   ],
   "source": [
    "data.info()"
   ]
  },
  {
   "cell_type": "code",
   "execution_count": 55,
   "id": "6dd35f94-5063-4972-90de-3c4fedf18cba",
   "metadata": {},
   "outputs": [],
   "source": [
    "import numpy as np\n",
    "import pandas as pd\n",
    "from sklearn.model_selection import train_test_split\n",
    "from sklearn.linear_model import LogisticRegression\n",
    "from sklearn.metrics import accuracy_score, confusion_matrix, classification_report"
   ]
  },
  {
   "cell_type": "code",
   "execution_count": 56,
   "id": "7cf6ecf8-0145-40d5-ae3e-e7ee2631b249",
   "metadata": {},
   "outputs": [],
   "source": [
    "X = data.drop('Status',axis=1)"
   ]
  },
  {
   "cell_type": "code",
   "execution_count": 57,
   "id": "11a926e5-6a6e-458a-b921-b7ab8ae65bcc",
   "metadata": {},
   "outputs": [
    {
     "data": {
      "text/html": [
       "<div>\n",
       "<style scoped>\n",
       "    .dataframe tbody tr th:only-of-type {\n",
       "        vertical-align: middle;\n",
       "    }\n",
       "\n",
       "    .dataframe tbody tr th {\n",
       "        vertical-align: top;\n",
       "    }\n",
       "\n",
       "    .dataframe thead th {\n",
       "        text-align: right;\n",
       "    }\n",
       "</style>\n",
       "<table border=\"1\" class=\"dataframe\">\n",
       "  <thead>\n",
       "    <tr style=\"text-align: right;\">\n",
       "      <th></th>\n",
       "      <th>Age</th>\n",
       "      <th>Race</th>\n",
       "      <th>Marital Status</th>\n",
       "      <th>T Stage</th>\n",
       "      <th>N Stage</th>\n",
       "      <th>6th Stage</th>\n",
       "      <th>differentiate</th>\n",
       "      <th>Grade</th>\n",
       "      <th>A Stage</th>\n",
       "      <th>Tumor Size</th>\n",
       "      <th>Estrogen Status</th>\n",
       "      <th>Progesterone Status</th>\n",
       "      <th>Regional Node Examined</th>\n",
       "      <th>Reginol Node Positive</th>\n",
       "      <th>Survival Months</th>\n",
       "    </tr>\n",
       "  </thead>\n",
       "  <tbody>\n",
       "    <tr>\n",
       "      <th>0</th>\n",
       "      <td>68</td>\n",
       "      <td>0</td>\n",
       "      <td>1</td>\n",
       "      <td>0</td>\n",
       "      <td>0</td>\n",
       "      <td>0</td>\n",
       "      <td>1</td>\n",
       "      <td>3</td>\n",
       "      <td>1</td>\n",
       "      <td>4</td>\n",
       "      <td>1</td>\n",
       "      <td>1</td>\n",
       "      <td>24</td>\n",
       "      <td>1</td>\n",
       "      <td>60</td>\n",
       "    </tr>\n",
       "    <tr>\n",
       "      <th>1</th>\n",
       "      <td>50</td>\n",
       "      <td>0</td>\n",
       "      <td>1</td>\n",
       "      <td>1</td>\n",
       "      <td>1</td>\n",
       "      <td>2</td>\n",
       "      <td>0</td>\n",
       "      <td>2</td>\n",
       "      <td>1</td>\n",
       "      <td>35</td>\n",
       "      <td>1</td>\n",
       "      <td>1</td>\n",
       "      <td>14</td>\n",
       "      <td>5</td>\n",
       "      <td>62</td>\n",
       "    </tr>\n",
       "    <tr>\n",
       "      <th>2</th>\n",
       "      <td>58</td>\n",
       "      <td>0</td>\n",
       "      <td>0</td>\n",
       "      <td>2</td>\n",
       "      <td>2</td>\n",
       "      <td>4</td>\n",
       "      <td>0</td>\n",
       "      <td>2</td>\n",
       "      <td>1</td>\n",
       "      <td>63</td>\n",
       "      <td>1</td>\n",
       "      <td>1</td>\n",
       "      <td>14</td>\n",
       "      <td>7</td>\n",
       "      <td>75</td>\n",
       "    </tr>\n",
       "    <tr>\n",
       "      <th>3</th>\n",
       "      <td>58</td>\n",
       "      <td>0</td>\n",
       "      <td>1</td>\n",
       "      <td>0</td>\n",
       "      <td>0</td>\n",
       "      <td>0</td>\n",
       "      <td>1</td>\n",
       "      <td>3</td>\n",
       "      <td>1</td>\n",
       "      <td>18</td>\n",
       "      <td>1</td>\n",
       "      <td>1</td>\n",
       "      <td>2</td>\n",
       "      <td>1</td>\n",
       "      <td>84</td>\n",
       "    </tr>\n",
       "    <tr>\n",
       "      <th>4</th>\n",
       "      <td>47</td>\n",
       "      <td>0</td>\n",
       "      <td>1</td>\n",
       "      <td>1</td>\n",
       "      <td>0</td>\n",
       "      <td>1</td>\n",
       "      <td>1</td>\n",
       "      <td>3</td>\n",
       "      <td>1</td>\n",
       "      <td>41</td>\n",
       "      <td>1</td>\n",
       "      <td>1</td>\n",
       "      <td>3</td>\n",
       "      <td>1</td>\n",
       "      <td>50</td>\n",
       "    </tr>\n",
       "    <tr>\n",
       "      <th>...</th>\n",
       "      <td>...</td>\n",
       "      <td>...</td>\n",
       "      <td>...</td>\n",
       "      <td>...</td>\n",
       "      <td>...</td>\n",
       "      <td>...</td>\n",
       "      <td>...</td>\n",
       "      <td>...</td>\n",
       "      <td>...</td>\n",
       "      <td>...</td>\n",
       "      <td>...</td>\n",
       "      <td>...</td>\n",
       "      <td>...</td>\n",
       "      <td>...</td>\n",
       "      <td>...</td>\n",
       "    </tr>\n",
       "    <tr>\n",
       "      <th>4019</th>\n",
       "      <td>62</td>\n",
       "      <td>2</td>\n",
       "      <td>1</td>\n",
       "      <td>0</td>\n",
       "      <td>0</td>\n",
       "      <td>0</td>\n",
       "      <td>0</td>\n",
       "      <td>2</td>\n",
       "      <td>1</td>\n",
       "      <td>9</td>\n",
       "      <td>1</td>\n",
       "      <td>1</td>\n",
       "      <td>1</td>\n",
       "      <td>1</td>\n",
       "      <td>49</td>\n",
       "    </tr>\n",
       "    <tr>\n",
       "      <th>4020</th>\n",
       "      <td>56</td>\n",
       "      <td>0</td>\n",
       "      <td>0</td>\n",
       "      <td>1</td>\n",
       "      <td>1</td>\n",
       "      <td>2</td>\n",
       "      <td>0</td>\n",
       "      <td>2</td>\n",
       "      <td>1</td>\n",
       "      <td>46</td>\n",
       "      <td>1</td>\n",
       "      <td>1</td>\n",
       "      <td>14</td>\n",
       "      <td>8</td>\n",
       "      <td>69</td>\n",
       "    </tr>\n",
       "    <tr>\n",
       "      <th>4021</th>\n",
       "      <td>68</td>\n",
       "      <td>0</td>\n",
       "      <td>1</td>\n",
       "      <td>1</td>\n",
       "      <td>0</td>\n",
       "      <td>1</td>\n",
       "      <td>0</td>\n",
       "      <td>2</td>\n",
       "      <td>1</td>\n",
       "      <td>22</td>\n",
       "      <td>1</td>\n",
       "      <td>0</td>\n",
       "      <td>11</td>\n",
       "      <td>3</td>\n",
       "      <td>69</td>\n",
       "    </tr>\n",
       "    <tr>\n",
       "      <th>4022</th>\n",
       "      <td>58</td>\n",
       "      <td>1</td>\n",
       "      <td>0</td>\n",
       "      <td>1</td>\n",
       "      <td>0</td>\n",
       "      <td>1</td>\n",
       "      <td>0</td>\n",
       "      <td>2</td>\n",
       "      <td>1</td>\n",
       "      <td>44</td>\n",
       "      <td>1</td>\n",
       "      <td>1</td>\n",
       "      <td>11</td>\n",
       "      <td>1</td>\n",
       "      <td>72</td>\n",
       "    </tr>\n",
       "    <tr>\n",
       "      <th>4023</th>\n",
       "      <td>46</td>\n",
       "      <td>0</td>\n",
       "      <td>1</td>\n",
       "      <td>1</td>\n",
       "      <td>0</td>\n",
       "      <td>1</td>\n",
       "      <td>0</td>\n",
       "      <td>2</td>\n",
       "      <td>1</td>\n",
       "      <td>30</td>\n",
       "      <td>1</td>\n",
       "      <td>1</td>\n",
       "      <td>7</td>\n",
       "      <td>2</td>\n",
       "      <td>100</td>\n",
       "    </tr>\n",
       "  </tbody>\n",
       "</table>\n",
       "<p>4023 rows × 15 columns</p>\n",
       "</div>"
      ],
      "text/plain": [
       "      Age  Race  Marital Status  T Stage   N Stage  6th Stage  differentiate  \\\n",
       "0      68     0               1         0        0          0              1   \n",
       "1      50     0               1         1        1          2              0   \n",
       "2      58     0               0         2        2          4              0   \n",
       "3      58     0               1         0        0          0              1   \n",
       "4      47     0               1         1        0          1              1   \n",
       "...   ...   ...             ...       ...      ...        ...            ...   \n",
       "4019   62     2               1         0        0          0              0   \n",
       "4020   56     0               0         1        1          2              0   \n",
       "4021   68     0               1         1        0          1              0   \n",
       "4022   58     1               0         1        0          1              0   \n",
       "4023   46     0               1         1        0          1              0   \n",
       "\n",
       "      Grade  A Stage  Tumor Size  Estrogen Status  Progesterone Status  \\\n",
       "0         3        1           4                1                    1   \n",
       "1         2        1          35                1                    1   \n",
       "2         2        1          63                1                    1   \n",
       "3         3        1          18                1                    1   \n",
       "4         3        1          41                1                    1   \n",
       "...     ...      ...         ...              ...                  ...   \n",
       "4019      2        1           9                1                    1   \n",
       "4020      2        1          46                1                    1   \n",
       "4021      2        1          22                1                    0   \n",
       "4022      2        1          44                1                    1   \n",
       "4023      2        1          30                1                    1   \n",
       "\n",
       "      Regional Node Examined  Reginol Node Positive  Survival Months  \n",
       "0                         24                      1               60  \n",
       "1                         14                      5               62  \n",
       "2                         14                      7               75  \n",
       "3                          2                      1               84  \n",
       "4                          3                      1               50  \n",
       "...                      ...                    ...              ...  \n",
       "4019                       1                      1               49  \n",
       "4020                      14                      8               69  \n",
       "4021                      11                      3               69  \n",
       "4022                      11                      1               72  \n",
       "4023                       7                      2              100  \n",
       "\n",
       "[4023 rows x 15 columns]"
      ]
     },
     "execution_count": 57,
     "metadata": {},
     "output_type": "execute_result"
    }
   ],
   "source": [
    "X\n"
   ]
  },
  {
   "cell_type": "code",
   "execution_count": 58,
   "id": "eb55e534-3c78-4e39-ae6a-38ec1e410484",
   "metadata": {},
   "outputs": [],
   "source": [
    "Y = data[\"Status\"]"
   ]
  },
  {
   "cell_type": "code",
   "execution_count": 59,
   "id": "d4457244-ce65-4ffa-ab04-23f489cfe3c9",
   "metadata": {},
   "outputs": [
    {
     "data": {
      "text/plain": [
       "0       1\n",
       "1       1\n",
       "2       1\n",
       "3       1\n",
       "4       1\n",
       "       ..\n",
       "4019    1\n",
       "4020    1\n",
       "4021    1\n",
       "4022    1\n",
       "4023    1\n",
       "Name: Status, Length: 4023, dtype: int64"
      ]
     },
     "execution_count": 59,
     "metadata": {},
     "output_type": "execute_result"
    }
   ],
   "source": [
    "Y\n"
   ]
  },
  {
   "cell_type": "code",
   "execution_count": 60,
   "id": "dd773d28-3916-476b-834e-472241e1e68b",
   "metadata": {},
   "outputs": [
    {
     "data": {
      "text/plain": [
       "Status\n",
       "1    3407\n",
       "0     616\n",
       "Name: count, dtype: int64"
      ]
     },
     "execution_count": 60,
     "metadata": {},
     "output_type": "execute_result"
    }
   ],
   "source": [
    "Y.value_counts()"
   ]
  },
  {
   "cell_type": "code",
   "execution_count": 61,
   "id": "7ce4ff05-c982-4f3e-abb2-37c26b9279d8",
   "metadata": {},
   "outputs": [],
   "source": [
    "X_train,X_test,Y_train,Y_test =train_test_split(X,Y,test_size=0.2,random_state=0)"
   ]
  },
  {
   "cell_type": "code",
   "execution_count": 62,
   "id": "1c3d6832-fb9c-49c9-b0d0-3ec8d6ec503c",
   "metadata": {},
   "outputs": [],
   "source": [
    "LGR = LogisticRegression()"
   ]
  },
  {
   "cell_type": "code",
   "execution_count": 63,
   "id": "51a2bce6-bace-44bb-a6c0-bea20c38d0dd",
   "metadata": {},
   "outputs": [
    {
     "name": "stderr",
     "output_type": "stream",
     "text": [
      "C:\\Users\\Muhammad Ramzan LLC\\anaconda3\\Lib\\site-packages\\sklearn\\linear_model\\_logistic.py:458: ConvergenceWarning: lbfgs failed to converge (status=1):\n",
      "STOP: TOTAL NO. of ITERATIONS REACHED LIMIT.\n",
      "\n",
      "Increase the number of iterations (max_iter) or scale the data as shown in:\n",
      "    https://scikit-learn.org/stable/modules/preprocessing.html\n",
      "Please also refer to the documentation for alternative solver options:\n",
      "    https://scikit-learn.org/stable/modules/linear_model.html#logistic-regression\n",
      "  n_iter_i = _check_optimize_result(\n"
     ]
    },
    {
     "data": {
      "text/html": [
       "<style>#sk-container-id-1 {color: black;background-color: white;}#sk-container-id-1 pre{padding: 0;}#sk-container-id-1 div.sk-toggleable {background-color: white;}#sk-container-id-1 label.sk-toggleable__label {cursor: pointer;display: block;width: 100%;margin-bottom: 0;padding: 0.3em;box-sizing: border-box;text-align: center;}#sk-container-id-1 label.sk-toggleable__label-arrow:before {content: \"▸\";float: left;margin-right: 0.25em;color: #696969;}#sk-container-id-1 label.sk-toggleable__label-arrow:hover:before {color: black;}#sk-container-id-1 div.sk-estimator:hover label.sk-toggleable__label-arrow:before {color: black;}#sk-container-id-1 div.sk-toggleable__content {max-height: 0;max-width: 0;overflow: hidden;text-align: left;background-color: #f0f8ff;}#sk-container-id-1 div.sk-toggleable__content pre {margin: 0.2em;color: black;border-radius: 0.25em;background-color: #f0f8ff;}#sk-container-id-1 input.sk-toggleable__control:checked~div.sk-toggleable__content {max-height: 200px;max-width: 100%;overflow: auto;}#sk-container-id-1 input.sk-toggleable__control:checked~label.sk-toggleable__label-arrow:before {content: \"▾\";}#sk-container-id-1 div.sk-estimator input.sk-toggleable__control:checked~label.sk-toggleable__label {background-color: #d4ebff;}#sk-container-id-1 div.sk-label input.sk-toggleable__control:checked~label.sk-toggleable__label {background-color: #d4ebff;}#sk-container-id-1 input.sk-hidden--visually {border: 0;clip: rect(1px 1px 1px 1px);clip: rect(1px, 1px, 1px, 1px);height: 1px;margin: -1px;overflow: hidden;padding: 0;position: absolute;width: 1px;}#sk-container-id-1 div.sk-estimator {font-family: monospace;background-color: #f0f8ff;border: 1px dotted black;border-radius: 0.25em;box-sizing: border-box;margin-bottom: 0.5em;}#sk-container-id-1 div.sk-estimator:hover {background-color: #d4ebff;}#sk-container-id-1 div.sk-parallel-item::after {content: \"\";width: 100%;border-bottom: 1px solid gray;flex-grow: 1;}#sk-container-id-1 div.sk-label:hover label.sk-toggleable__label {background-color: #d4ebff;}#sk-container-id-1 div.sk-serial::before {content: \"\";position: absolute;border-left: 1px solid gray;box-sizing: border-box;top: 0;bottom: 0;left: 50%;z-index: 0;}#sk-container-id-1 div.sk-serial {display: flex;flex-direction: column;align-items: center;background-color: white;padding-right: 0.2em;padding-left: 0.2em;position: relative;}#sk-container-id-1 div.sk-item {position: relative;z-index: 1;}#sk-container-id-1 div.sk-parallel {display: flex;align-items: stretch;justify-content: center;background-color: white;position: relative;}#sk-container-id-1 div.sk-item::before, #sk-container-id-1 div.sk-parallel-item::before {content: \"\";position: absolute;border-left: 1px solid gray;box-sizing: border-box;top: 0;bottom: 0;left: 50%;z-index: -1;}#sk-container-id-1 div.sk-parallel-item {display: flex;flex-direction: column;z-index: 1;position: relative;background-color: white;}#sk-container-id-1 div.sk-parallel-item:first-child::after {align-self: flex-end;width: 50%;}#sk-container-id-1 div.sk-parallel-item:last-child::after {align-self: flex-start;width: 50%;}#sk-container-id-1 div.sk-parallel-item:only-child::after {width: 0;}#sk-container-id-1 div.sk-dashed-wrapped {border: 1px dashed gray;margin: 0 0.4em 0.5em 0.4em;box-sizing: border-box;padding-bottom: 0.4em;background-color: white;}#sk-container-id-1 div.sk-label label {font-family: monospace;font-weight: bold;display: inline-block;line-height: 1.2em;}#sk-container-id-1 div.sk-label-container {text-align: center;}#sk-container-id-1 div.sk-container {/* jupyter's `normalize.less` sets `[hidden] { display: none; }` but bootstrap.min.css set `[hidden] { display: none !important; }` so we also need the `!important` here to be able to override the default hidden behavior on the sphinx rendered scikit-learn.org. See: https://github.com/scikit-learn/scikit-learn/issues/21755 */display: inline-block !important;position: relative;}#sk-container-id-1 div.sk-text-repr-fallback {display: none;}</style><div id=\"sk-container-id-1\" class=\"sk-top-container\"><div class=\"sk-text-repr-fallback\"><pre>LogisticRegression()</pre><b>In a Jupyter environment, please rerun this cell to show the HTML representation or trust the notebook. <br />On GitHub, the HTML representation is unable to render, please try loading this page with nbviewer.org.</b></div><div class=\"sk-container\" hidden><div class=\"sk-item\"><div class=\"sk-estimator sk-toggleable\"><input class=\"sk-toggleable__control sk-hidden--visually\" id=\"sk-estimator-id-1\" type=\"checkbox\" checked><label for=\"sk-estimator-id-1\" class=\"sk-toggleable__label sk-toggleable__label-arrow\">LogisticRegression</label><div class=\"sk-toggleable__content\"><pre>LogisticRegression()</pre></div></div></div></div></div>"
      ],
      "text/plain": [
       "LogisticRegression()"
      ]
     },
     "execution_count": 63,
     "metadata": {},
     "output_type": "execute_result"
    }
   ],
   "source": [
    "LGR.fit(X_train,Y_train)"
   ]
  },
  {
   "cell_type": "code",
   "execution_count": 64,
   "id": "e68deb59-2d13-43f9-b315-4770cb7e2c7f",
   "metadata": {},
   "outputs": [],
   "source": [
    "Y_train_pred = LGR.predict(X_train)"
   ]
  },
  {
   "cell_type": "code",
   "execution_count": 65,
   "id": "ee14523d-863a-41c5-8786-9f041c0c0aea",
   "metadata": {},
   "outputs": [
    {
     "data": {
      "text/html": [
       "<div>\n",
       "<style scoped>\n",
       "    .dataframe tbody tr th:only-of-type {\n",
       "        vertical-align: middle;\n",
       "    }\n",
       "\n",
       "    .dataframe tbody tr th {\n",
       "        vertical-align: top;\n",
       "    }\n",
       "\n",
       "    .dataframe thead th {\n",
       "        text-align: right;\n",
       "    }\n",
       "</style>\n",
       "<table border=\"1\" class=\"dataframe\">\n",
       "  <thead>\n",
       "    <tr style=\"text-align: right;\">\n",
       "      <th></th>\n",
       "      <th>Original_Y_test</th>\n",
       "      <th>Predicted Y_test</th>\n",
       "    </tr>\n",
       "  </thead>\n",
       "  <tbody>\n",
       "    <tr>\n",
       "      <th>3095</th>\n",
       "      <td>0</td>\n",
       "      <td>0</td>\n",
       "    </tr>\n",
       "    <tr>\n",
       "      <th>4016</th>\n",
       "      <td>1</td>\n",
       "      <td>1</td>\n",
       "    </tr>\n",
       "    <tr>\n",
       "      <th>554</th>\n",
       "      <td>1</td>\n",
       "      <td>1</td>\n",
       "    </tr>\n",
       "    <tr>\n",
       "      <th>3567</th>\n",
       "      <td>1</td>\n",
       "      <td>1</td>\n",
       "    </tr>\n",
       "    <tr>\n",
       "      <th>1772</th>\n",
       "      <td>1</td>\n",
       "      <td>1</td>\n",
       "    </tr>\n",
       "    <tr>\n",
       "      <th>...</th>\n",
       "      <td>...</td>\n",
       "      <td>...</td>\n",
       "    </tr>\n",
       "    <tr>\n",
       "      <th>836</th>\n",
       "      <td>1</td>\n",
       "      <td>1</td>\n",
       "    </tr>\n",
       "    <tr>\n",
       "      <th>3265</th>\n",
       "      <td>1</td>\n",
       "      <td>1</td>\n",
       "    </tr>\n",
       "    <tr>\n",
       "      <th>1654</th>\n",
       "      <td>1</td>\n",
       "      <td>1</td>\n",
       "    </tr>\n",
       "    <tr>\n",
       "      <th>2608</th>\n",
       "      <td>1</td>\n",
       "      <td>1</td>\n",
       "    </tr>\n",
       "    <tr>\n",
       "      <th>2733</th>\n",
       "      <td>1</td>\n",
       "      <td>1</td>\n",
       "    </tr>\n",
       "  </tbody>\n",
       "</table>\n",
       "<p>3218 rows × 2 columns</p>\n",
       "</div>"
      ],
      "text/plain": [
       "      Original_Y_test  Predicted Y_test\n",
       "3095                0                 0\n",
       "4016                1                 1\n",
       "554                 1                 1\n",
       "3567                1                 1\n",
       "1772                1                 1\n",
       "...               ...               ...\n",
       "836                 1                 1\n",
       "3265                1                 1\n",
       "1654                1                 1\n",
       "2608                1                 1\n",
       "2733                1                 1\n",
       "\n",
       "[3218 rows x 2 columns]"
      ]
     },
     "execution_count": 65,
     "metadata": {},
     "output_type": "execute_result"
    }
   ],
   "source": [
    "pd.DataFrame({'Original_Y_test':Y_train,\n",
    "               'Predicted Y_test': Y_train_pred})"
   ]
  },
  {
   "cell_type": "code",
   "execution_count": 66,
   "id": "e886c266-d7da-4112-a590-50d359814d81",
   "metadata": {},
   "outputs": [
    {
     "data": {
      "text/plain": [
       "0.896519577377253"
      ]
     },
     "execution_count": 66,
     "metadata": {},
     "output_type": "execute_result"
    }
   ],
   "source": [
    "accuracy_score(Y_train,Y_train_pred)"
   ]
  },
  {
   "cell_type": "code",
   "execution_count": 67,
   "id": "a0ba051c-f2d6-4682-940e-2cd5538e371f",
   "metadata": {},
   "outputs": [
    {
     "data": {
      "text/plain": [
       "array([[ 218,  270],\n",
       "       [  63, 2667]], dtype=int64)"
      ]
     },
     "execution_count": 67,
     "metadata": {},
     "output_type": "execute_result"
    }
   ],
   "source": [
    "confusion_matrix(Y_train,Y_train_pred)"
   ]
  },
  {
   "cell_type": "code",
   "execution_count": 68,
   "id": "b67418fd-4dcc-4b9a-a2f2-059d79fedf47",
   "metadata": {},
   "outputs": [
    {
     "name": "stdout",
     "output_type": "stream",
     "text": [
      "              precision    recall  f1-score   support\n",
      "\n",
      "           0       0.78      0.45      0.57       488\n",
      "           1       0.91      0.98      0.94      2730\n",
      "\n",
      "    accuracy                           0.90      3218\n",
      "   macro avg       0.84      0.71      0.75      3218\n",
      "weighted avg       0.89      0.90      0.88      3218\n",
      "\n"
     ]
    }
   ],
   "source": [
    "print(classification_report(Y_train,Y_train_pred))"
   ]
  },
  {
   "cell_type": "code",
   "execution_count": 69,
   "id": "9f9e2dc6-6b99-467f-a401-9a2d30af40fc",
   "metadata": {},
   "outputs": [],
   "source": [
    "Y_test_pred = LGR.predict(X_test)"
   ]
  },
  {
   "cell_type": "code",
   "execution_count": 70,
   "id": "b0e7a6f0-2523-42f9-8731-f50f65284b3c",
   "metadata": {},
   "outputs": [
    {
     "data": {
      "text/html": [
       "<div>\n",
       "<style scoped>\n",
       "    .dataframe tbody tr th:only-of-type {\n",
       "        vertical-align: middle;\n",
       "    }\n",
       "\n",
       "    .dataframe tbody tr th {\n",
       "        vertical-align: top;\n",
       "    }\n",
       "\n",
       "    .dataframe thead th {\n",
       "        text-align: right;\n",
       "    }\n",
       "</style>\n",
       "<table border=\"1\" class=\"dataframe\">\n",
       "  <thead>\n",
       "    <tr style=\"text-align: right;\">\n",
       "      <th></th>\n",
       "      <th>Original_Y_test</th>\n",
       "      <th>Predicted Y_test</th>\n",
       "    </tr>\n",
       "  </thead>\n",
       "  <tbody>\n",
       "    <tr>\n",
       "      <th>1494</th>\n",
       "      <td>1</td>\n",
       "      <td>1</td>\n",
       "    </tr>\n",
       "    <tr>\n",
       "      <th>2588</th>\n",
       "      <td>1</td>\n",
       "      <td>0</td>\n",
       "    </tr>\n",
       "    <tr>\n",
       "      <th>892</th>\n",
       "      <td>0</td>\n",
       "      <td>1</td>\n",
       "    </tr>\n",
       "    <tr>\n",
       "      <th>1953</th>\n",
       "      <td>1</td>\n",
       "      <td>1</td>\n",
       "    </tr>\n",
       "    <tr>\n",
       "      <th>87</th>\n",
       "      <td>1</td>\n",
       "      <td>1</td>\n",
       "    </tr>\n",
       "    <tr>\n",
       "      <th>...</th>\n",
       "      <td>...</td>\n",
       "      <td>...</td>\n",
       "    </tr>\n",
       "    <tr>\n",
       "      <th>3558</th>\n",
       "      <td>1</td>\n",
       "      <td>1</td>\n",
       "    </tr>\n",
       "    <tr>\n",
       "      <th>159</th>\n",
       "      <td>0</td>\n",
       "      <td>0</td>\n",
       "    </tr>\n",
       "    <tr>\n",
       "      <th>3885</th>\n",
       "      <td>1</td>\n",
       "      <td>1</td>\n",
       "    </tr>\n",
       "    <tr>\n",
       "      <th>3054</th>\n",
       "      <td>1</td>\n",
       "      <td>1</td>\n",
       "    </tr>\n",
       "    <tr>\n",
       "      <th>3565</th>\n",
       "      <td>1</td>\n",
       "      <td>1</td>\n",
       "    </tr>\n",
       "  </tbody>\n",
       "</table>\n",
       "<p>805 rows × 2 columns</p>\n",
       "</div>"
      ],
      "text/plain": [
       "      Original_Y_test  Predicted Y_test\n",
       "1494                1                 1\n",
       "2588                1                 0\n",
       "892                 0                 1\n",
       "1953                1                 1\n",
       "87                  1                 1\n",
       "...               ...               ...\n",
       "3558                1                 1\n",
       "159                 0                 0\n",
       "3885                1                 1\n",
       "3054                1                 1\n",
       "3565                1                 1\n",
       "\n",
       "[805 rows x 2 columns]"
      ]
     },
     "execution_count": 70,
     "metadata": {},
     "output_type": "execute_result"
    }
   ],
   "source": [
    "pd.DataFrame({'Original_Y_test':Y_test,\n",
    "               'Predicted Y_test': Y_test_pred})"
   ]
  },
  {
   "cell_type": "code",
   "execution_count": 71,
   "id": "1e4960b7-4048-474b-8b52-d85189f1cfcb",
   "metadata": {},
   "outputs": [
    {
     "data": {
      "text/plain": [
       "0.9006211180124224"
      ]
     },
     "execution_count": 71,
     "metadata": {},
     "output_type": "execute_result"
    }
   ],
   "source": [
    "accuracy_score(Y_test,Y_test_pred)"
   ]
  },
  {
   "cell_type": "code",
   "execution_count": 72,
   "id": "586e3ea7-4f77-4ad1-b8ea-75fa7ffa84c0",
   "metadata": {},
   "outputs": [
    {
     "data": {
      "text/plain": [
       "array([[ 63,  65],\n",
       "       [ 15, 662]], dtype=int64)"
      ]
     },
     "execution_count": 72,
     "metadata": {},
     "output_type": "execute_result"
    }
   ],
   "source": [
    "confusion_matrix(Y_test,Y_test_pred)"
   ]
  },
  {
   "cell_type": "code",
   "execution_count": 73,
   "id": "ffe59485-23e2-48bf-925f-c44e6597cdd7",
   "metadata": {},
   "outputs": [
    {
     "name": "stdout",
     "output_type": "stream",
     "text": [
      "              precision    recall  f1-score   support\n",
      "\n",
      "           0       0.81      0.49      0.61       128\n",
      "           1       0.91      0.98      0.94       677\n",
      "\n",
      "    accuracy                           0.90       805\n",
      "   macro avg       0.86      0.74      0.78       805\n",
      "weighted avg       0.89      0.90      0.89       805\n",
      "\n"
     ]
    }
   ],
   "source": [
    "print(classification_report(Y_test,Y_test_pred))"
   ]
  },
  {
   "cell_type": "code",
   "execution_count": 75,
   "id": "4f8483d3-3f2f-4a03-ba15-654e986a07a1",
   "metadata": {},
   "outputs": [
    {
     "data": {
      "text/plain": [
       "Status\n",
       "1    3407\n",
       "0     616\n",
       "Name: count, dtype: int64"
      ]
     },
     "execution_count": 75,
     "metadata": {},
     "output_type": "execute_result"
    }
   ],
   "source": [
    "data.Status.value_counts()"
   ]
  },
  {
   "cell_type": "code",
   "execution_count": null,
   "id": "38385d2c-6b7e-4adf-9bef-c1825bef6cc7",
   "metadata": {},
   "outputs": [],
   "source": []
  }
 ],
 "metadata": {
  "kernelspec": {
   "display_name": "Python 3",
   "language": "python",
   "name": "python3"
  },
  "language_info": {
   "codemirror_mode": {
    "name": "ipython",
    "version": 3
   },
   "file_extension": ".py",
   "mimetype": "text/x-python",
   "name": "python",
   "nbconvert_exporter": "python",
   "pygments_lexer": "ipython3",
   "version": "3.13.1"
  }
 },
 "nbformat": 4,
 "nbformat_minor": 5
}
